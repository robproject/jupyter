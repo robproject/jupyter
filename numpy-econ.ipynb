{
 "cells": [
  {
   "cell_type": "code",
   "execution_count": 2,
   "metadata": {},
   "outputs": [],
   "source": [
    "# using package numpy-financial\n",
    "import numpy_financial as npf\n",
    "import pandas as pd\n",
    "from ipysheet import from_dataframe, to_dataframe"
   ]
  },
  {
   "cell_type": "code",
   "execution_count": 3,
   "metadata": {},
   "outputs": [
    {
     "name": "stdout",
     "output_type": "stream",
     "text": [
      "30.31%\n"
     ]
    }
   ],
   "source": [
    "# interest rate declaration\n",
    "i = 0\n",
    "# for all interest rates from 0.000001% to 50.000000%\n",
    "for n in range(1, int(5e5)):\n",
    "    # set rate\n",
    "    i = n * 1e-6\n",
    "    # incremental calc 8.22\n",
    "    #k = -25 - npf.pv(i,6,4) - npf.pv(i, 3,0, 26) + npf.pv(i, 4, 0, 39) - npf.pv(i, 6, 0, 40)\n",
    "    # incremental 2 calc 8.22\n",
    "    #k = -25 - npf.pv(i, 6, 4) - npf.pv(i, 3, 0, 26) + npf.pv(i, 4, 0, 39) - npf.pv(i, 6, 0, 36)\n",
    "    # 8.24\n",
    "    k = 10 + npf.pv(i,4,1.2) + npf.pv(i,2,0,12) + npf.pv(i,4,0,1)\n",
    "    # if close to 0\n",
    "    if abs(k) < .0001:\n",
    "        print(f\"{i*100:.2f}%\")\n",
    "        break"
   ]
  },
  {
   "cell_type": "code",
   "execution_count": 8,
   "metadata": {},
   "outputs": [
    {
     "name": "stderr",
     "output_type": "stream",
     "text": [
      "/home/rodun/venv/lib/python3.10/site-packages/jupyter_client/session.py:718: UserWarning: Message serialization failed with:\n",
      "Out of range float values are not JSON compliant\n",
      "Supporting this message is deprecated in jupyter-client 7, please make sure your message is JSON-compliant\n",
      "  content = self.pack(content)\n"
     ]
    },
    {
     "data": {
      "application/vnd.jupyter.widget-view+json": {
       "model_id": "e783a5232f43423a8cce4a586afa4aba",
       "version_major": 2,
       "version_minor": 0
      },
      "text/plain": [
       "Sheet(cells=(Cell(column_end=0, column_start=0, numeric_format=None, row_end=41, row_start=0, squeeze_row=Fals…"
      ]
     },
     "execution_count": 8,
     "metadata": {},
     "output_type": "execute_result"
    }
   ],
   "source": [
    "path = 'nuclear-stats/12s0928.xls'\n",
    "df = pd.read_excel (path)\n",
    "sheet = from_dataframe(df)\n",
    "sheet.column_width = ['150'] * 38\n",
    "sheet"
   ]
  }
 ],
 "metadata": {
  "kernelspec": {
   "display_name": "Python 3.10.6 ('venv')",
   "language": "python",
   "name": "python3"
  },
  "language_info": {
   "codemirror_mode": {
    "name": "ipython",
    "version": 3
   },
   "file_extension": ".py",
   "mimetype": "text/x-python",
   "name": "python",
   "nbconvert_exporter": "python",
   "pygments_lexer": "ipython3",
   "version": "3.10.6"
  },
  "orig_nbformat": 4,
  "vscode": {
   "interpreter": {
    "hash": "35ab12972f7242f5241b7494272a670c7bdf40fb6e804676c1bd9893b1a5d06f"
   }
  }
 },
 "nbformat": 4,
 "nbformat_minor": 2
}
