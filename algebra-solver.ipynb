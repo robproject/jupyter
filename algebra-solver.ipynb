{
 "cells": [
  {
   "cell_type": "code",
   "execution_count": 2,
   "metadata": {},
   "outputs": [],
   "source": [
    "import sympy as sp"
   ]
  },
  {
   "cell_type": "code",
   "execution_count": 3,
   "metadata": {},
   "outputs": [],
   "source": [
    "g1, g2, g3, g4, g5, h1, h2, h3 = sp.symbols('g1 g2 g3 g4 g5 h1 h2 h3')"
   ]
  },
  {
   "cell_type": "code",
   "execution_count": 4,
   "metadata": {},
   "outputs": [],
   "source": [
    "g4 = g2/(1+g2 * h1)\n",
    "g5 = 1 + h1 / g2\n"
   ]
  },
  {
   "cell_type": "code",
   "execution_count": 5,
   "metadata": {},
   "outputs": [],
   "source": [
    "tf = (g1 * (g3 * g4 * g5)/(1 + g3 * g4 * g5 * h3))/(1+g1*(g3*g4*g5)/(1 + g3*g4*g5 * h3))"
   ]
  }
 ],
 "metadata": {
  "kernelspec": {
   "display_name": "Python 3.8.10 ('venv')",
   "language": "python",
   "name": "python3"
  },
  "language_info": {
   "codemirror_mode": {
    "name": "ipython",
    "version": 3
   },
   "file_extension": ".py",
   "mimetype": "text/x-python",
   "name": "python",
   "nbconvert_exporter": "python",
   "pygments_lexer": "ipython3",
   "version": "3.8.10"
  },
  "orig_nbformat": 4,
  "vscode": {
   "interpreter": {
    "hash": "3f0cc36d700b90dbe8ddff1eec752834c74026f5f471f2a602eb9a084692e4b9"
   }
  }
 },
 "nbformat": 4,
 "nbformat_minor": 2
}
