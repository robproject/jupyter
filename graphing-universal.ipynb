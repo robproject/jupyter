{
 "cells": [
  {
   "cell_type": "code",
   "execution_count": 2,
   "metadata": {},
   "outputs": [],
   "source": [
    "import sympy as sp\n",
    "from sympy.physics.control import control_plots as conplo\n",
    "from sympy.abc import s\n",
    "from sympy.physics.control.lti import TransferFunction as tf"
   ]
  },
  {
   "cell_type": "code",
   "execution_count": 5,
   "metadata": {},
   "outputs": [],
   "source": [
    "#tf1 = tf(10 * (s/3 + 1), s * (s/2 + 1) * (s**2/2 + s/2 + 1), s)\n",
    "#tf2 = tf(1,s*1e-9,s)\n",
    "tf1 = tf(10 * (s-1)**2, s**3, s)"
   ]
  },
  {
   "cell_type": "code",
   "execution_count": 6,
   "metadata": {},
   "outputs": [
    {
     "ename": "NotImplementedError",
     "evalue": "Only SISO LTI systems are currently supported.",
     "output_type": "error",
     "traceback": [
      "\u001b[0;31m---------------------------------------------------------------------------\u001b[0m",
      "\u001b[0;31mNotImplementedError\u001b[0m                       Traceback (most recent call last)",
      "Cell \u001b[0;32mIn [6], line 1\u001b[0m\n\u001b[0;32m----> 1\u001b[0m conplo\u001b[39m.\u001b[39;49mbode_plot(tf1,initial_exp\u001b[39m=\u001b[39;49m\u001b[39m-\u001b[39;49m\u001b[39m2\u001b[39;49m, final_exp\u001b[39m=\u001b[39;49m\u001b[39m4\u001b[39;49m, phase_unit\u001b[39m=\u001b[39;49m\u001b[39m'\u001b[39;49m\u001b[39mdeg\u001b[39;49m\u001b[39m'\u001b[39;49m)\n\u001b[1;32m      2\u001b[0m \u001b[39m#conplo.bode_plot(tf2, initial_exp=0, final_exp=7)\u001b[39;00m\n",
      "File \u001b[0;32m~/venv/lib/python3.10/site-packages/sympy/physics/control/control_plots.py:948\u001b[0m, in \u001b[0;36mbode_plot\u001b[0;34m(system, initial_exp, final_exp, grid, show_axes, show, freq_unit, phase_unit, **kwargs)\u001b[0m\n\u001b[1;32m    899\u001b[0m \u001b[39mr\u001b[39m\u001b[39m\"\"\"\u001b[39;00m\n\u001b[1;32m    900\u001b[0m \u001b[39mReturns the Bode phase and magnitude plots of a continuous-time system.\u001b[39;00m\n\u001b[1;32m    901\u001b[0m \n\u001b[0;32m   (...)\u001b[0m\n\u001b[1;32m    945\u001b[0m \n\u001b[1;32m    946\u001b[0m \u001b[39m\"\"\"\u001b[39;00m\n\u001b[1;32m    947\u001b[0m plt\u001b[39m.\u001b[39msubplot(\u001b[39m211\u001b[39m)\n\u001b[0;32m--> 948\u001b[0m mag \u001b[39m=\u001b[39m bode_magnitude_plot(system, initial_exp\u001b[39m=\u001b[39;49minitial_exp, final_exp\u001b[39m=\u001b[39;49mfinal_exp,\n\u001b[1;32m    949\u001b[0m     show\u001b[39m=\u001b[39;49m\u001b[39mFalse\u001b[39;49;00m, grid\u001b[39m=\u001b[39;49mgrid, show_axes\u001b[39m=\u001b[39;49mshow_axes,\n\u001b[1;32m    950\u001b[0m     freq_unit\u001b[39m=\u001b[39;49mfreq_unit, \u001b[39m*\u001b[39;49m\u001b[39m*\u001b[39;49mkwargs)\n\u001b[1;32m    951\u001b[0m mag\u001b[39m.\u001b[39mtitle(\u001b[39mf\u001b[39m\u001b[39m'\u001b[39m\u001b[39mBode Plot of $\u001b[39m\u001b[39m{\u001b[39;00mlatex(system)\u001b[39m}\u001b[39;00m\u001b[39m$\u001b[39m\u001b[39m'\u001b[39m, pad\u001b[39m=\u001b[39m\u001b[39m20\u001b[39m)\n\u001b[1;32m    952\u001b[0m mag\u001b[39m.\u001b[39mxlabel(\u001b[39mNone\u001b[39;00m)\n",
      "File \u001b[0;32m~/venv/lib/python3.10/site-packages/sympy/physics/control/control_plots.py:759\u001b[0m, in \u001b[0;36mbode_magnitude_plot\u001b[0;34m(system, initial_exp, final_exp, color, show_axes, grid, show, freq_unit, **kwargs)\u001b[0m\n\u001b[1;32m    752\u001b[0m \u001b[39mdef\u001b[39;00m \u001b[39mbode_magnitude_plot\u001b[39m(system, initial_exp\u001b[39m=\u001b[39m\u001b[39m-\u001b[39m\u001b[39m5\u001b[39m, final_exp\u001b[39m=\u001b[39m\u001b[39m5\u001b[39m,\n\u001b[1;32m    753\u001b[0m     color\u001b[39m=\u001b[39m\u001b[39m'\u001b[39m\u001b[39mb\u001b[39m\u001b[39m'\u001b[39m, show_axes\u001b[39m=\u001b[39m\u001b[39mFalse\u001b[39;00m, grid\u001b[39m=\u001b[39m\u001b[39mTrue\u001b[39;00m, show\u001b[39m=\u001b[39m\u001b[39mTrue\u001b[39;00m, freq_unit\u001b[39m=\u001b[39m\u001b[39m'\u001b[39m\u001b[39mrad/sec\u001b[39m\u001b[39m'\u001b[39m, \u001b[39m*\u001b[39m\u001b[39m*\u001b[39mkwargs):\n\u001b[1;32m    754\u001b[0m     \u001b[39mr\u001b[39m\u001b[39m\"\"\"\u001b[39;00m\n\u001b[1;32m    755\u001b[0m \u001b[39m    Returns the Bode magnitude plot of a continuous-time system.\u001b[39;00m\n\u001b[1;32m    756\u001b[0m \n\u001b[1;32m    757\u001b[0m \u001b[39m    See ``bode_plot`` for all the parameters.\u001b[39;00m\n\u001b[1;32m    758\u001b[0m \u001b[39m    \"\"\"\u001b[39;00m\n\u001b[0;32m--> 759\u001b[0m     x, y \u001b[39m=\u001b[39m bode_magnitude_numerical_data(system, initial_exp\u001b[39m=\u001b[39;49minitial_exp,\n\u001b[1;32m    760\u001b[0m         final_exp\u001b[39m=\u001b[39;49mfinal_exp, freq_unit\u001b[39m=\u001b[39;49mfreq_unit)\n\u001b[1;32m    761\u001b[0m     plt\u001b[39m.\u001b[39mplot(x, y, color\u001b[39m=\u001b[39mcolor, \u001b[39m*\u001b[39m\u001b[39m*\u001b[39mkwargs)\n\u001b[1;32m    762\u001b[0m     plt\u001b[39m.\u001b[39mxscale(\u001b[39m'\u001b[39m\u001b[39mlog\u001b[39m\u001b[39m'\u001b[39m)\n",
      "File \u001b[0;32m~/venv/lib/python3.10/site-packages/sympy/physics/control/control_plots.py:731\u001b[0m, in \u001b[0;36mbode_magnitude_numerical_data\u001b[0;34m(system, initial_exp, final_exp, freq_unit, **kwargs)\u001b[0m\n\u001b[1;32m    672\u001b[0m \u001b[39mdef\u001b[39;00m \u001b[39mbode_magnitude_numerical_data\u001b[39m(system, initial_exp\u001b[39m=\u001b[39m\u001b[39m-\u001b[39m\u001b[39m5\u001b[39m, final_exp\u001b[39m=\u001b[39m\u001b[39m5\u001b[39m, freq_unit\u001b[39m=\u001b[39m\u001b[39m'\u001b[39m\u001b[39mrad/sec\u001b[39m\u001b[39m'\u001b[39m, \u001b[39m*\u001b[39m\u001b[39m*\u001b[39mkwargs):\n\u001b[1;32m    673\u001b[0m     \u001b[39m\"\"\"\u001b[39;00m\n\u001b[1;32m    674\u001b[0m \u001b[39m    Returns the numerical data of the Bode magnitude plot of the system.\u001b[39;00m\n\u001b[1;32m    675\u001b[0m \u001b[39m    It is internally used by ``bode_magnitude_plot`` to get the data\u001b[39;00m\n\u001b[0;32m   (...)\u001b[0m\n\u001b[1;32m    729\u001b[0m \n\u001b[1;32m    730\u001b[0m \u001b[39m    \"\"\"\u001b[39;00m\n\u001b[0;32m--> 731\u001b[0m     _check_system(system)\n\u001b[1;32m    732\u001b[0m     expr \u001b[39m=\u001b[39m system\u001b[39m.\u001b[39mto_expr()\n\u001b[1;32m    733\u001b[0m     freq_units \u001b[39m=\u001b[39m (\u001b[39m'\u001b[39m\u001b[39mrad/sec\u001b[39m\u001b[39m'\u001b[39m, \u001b[39m'\u001b[39m\u001b[39mHz\u001b[39m\u001b[39m'\u001b[39m)\n",
      "File \u001b[0;32m~/venv/lib/python3.10/site-packages/sympy/physics/control/control_plots.py:37\u001b[0m, in \u001b[0;36m_check_system\u001b[0;34m(system)\u001b[0m\n\u001b[1;32m     34\u001b[0m \u001b[39m\"\"\"Function to check whether the dynamical system passed for plots is\u001b[39;00m\n\u001b[1;32m     35\u001b[0m \u001b[39mcompatible or not.\"\"\"\u001b[39;00m\n\u001b[1;32m     36\u001b[0m \u001b[39mif\u001b[39;00m \u001b[39mnot\u001b[39;00m \u001b[39misinstance\u001b[39m(system, SISOLinearTimeInvariant):\n\u001b[0;32m---> 37\u001b[0m     \u001b[39mraise\u001b[39;00m \u001b[39mNotImplementedError\u001b[39;00m(\u001b[39m\"\u001b[39m\u001b[39mOnly SISO LTI systems are currently supported.\u001b[39m\u001b[39m\"\u001b[39m)\n\u001b[1;32m     38\u001b[0m sys \u001b[39m=\u001b[39m system\u001b[39m.\u001b[39mto_expr()\n\u001b[1;32m     39\u001b[0m len_free_symbols \u001b[39m=\u001b[39m \u001b[39mlen\u001b[39m(sys\u001b[39m.\u001b[39mfree_symbols)\n",
      "\u001b[0;31mNotImplementedError\u001b[0m: Only SISO LTI systems are currently supported."
     ]
    },
    {
     "data": {
      "image/png": "[encoded data removed]",
      "text/plain": [
       "<Figure size 640x480 with 1 Axes>"
      ]
     },
     "metadata": {},
     "output_type": "display_data"
    }
   ],
   "source": [
    "conplo.bode_plot(tf1,initial_exp=-2, final_exp=4, phase_unit='deg')\n",
    "#conplo.bode_plot(tf2, initial_exp=0, final_exp=7)"
   ]
  },
  {
   "cell_type": "code",
   "execution_count": null,
   "metadata": {},
   "outputs": [],
   "source": [
    "\n",
    "tf3 = tf(1/(s*1e-9)+s*.015,100+1/(s*1e-9)+.015*s, s)\n",
    "conplo.bode_plot(tf3, initial_exp=0, final_exp=7)"
   ]
  },
  {
   "cell_type": "code",
   "execution_count": null,
   "metadata": {},
   "outputs": [],
   "source": []
  }
 ],
 "metadata": {
  "kernelspec": {
   "display_name": "Python 3.10.6 ('venv')",
   "language": "python",
   "name": "python3"
  },
  "language_info": {
   "codemirror_mode": {
    "name": "ipython",
    "version": 3
   },
   "file_extension": ".py",
   "mimetype": "text/x-python",
   "name": "python",
   "nbconvert_exporter": "python",
   "pygments_lexer": "ipython3",
   "version": "3.10.6"
  },
  "orig_nbformat": 4,
  "vscode": {
   "interpreter": {
    "hash": "35ab12972f7242f5241b7494272a670c7bdf40fb6e804676c1bd9893b1a5d06f"
   }
  }
 },
 "nbformat": 4,
 "nbformat_minor": 2
}
