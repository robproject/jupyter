{
 "cells": [
  {
   "cell_type": "code",
   "execution_count": 2,
   "metadata": {},
   "outputs": [],
   "source": [
    "import pandas as pd\n",
    "import os\n",
    "import re\n",
    "from ipysheet import from_dataframe, to_dataframe\n"
   ]
  },
  {
   "cell_type": "code",
   "execution_count": 2,
   "metadata": {},
   "outputs": [],
   "source": [
    "# NFCU\n",
    "path = './in/transactions.CSV'\n",
    "df = pd.read_csv(path)\n",
    "df['Date'] = pd.to_datetime(df.Date)\n",
    "df.drop(\"No.\", axis=1, inplace=True)\n",
    "df.rename(columns={\"Description\":\"Payee\"}, inplace=True)\n",
    "df.to_csv('./out/nfcu.csv')"
   ]
  },
  {
   "cell_type": "code",
   "execution_count": 3,
   "metadata": {},
   "outputs": [],
   "source": [
    "# Ally\n",
    "path = './in/ally.csv'\n",
    "df = pd.read_csv(path)\n",
    "\n",
    "df.drop(columns=[' Time', ' Type'], inplace=True)\n",
    "df.rename(columns={\" Description\":\"Payee\"}, inplace=True)\n",
    "\n",
    "df.to_csv('./out/ally.csv')\n"
   ]
  },
  {
   "cell_type": "code",
   "execution_count": 4,
   "metadata": {},
   "outputs": [],
   "source": [
    "# Chase\n",
    "path = './in/'\n",
    "for filename in os.listdir(path):\n",
    "    if re.match(\"Chase.*.CSV\",filename):\n",
    "        path = path + filename\n",
    "df = pd.read_csv(path)\n",
    "df.drop(columns=['Transaction Date', 'Category', 'Type'], inplace=True)\n",
    "df.rename(columns={'Post Date':'Date'}, inplace=True)\n",
    "\n",
    "df.to_csv('./out/Chase.csv')\n"
   ]
  },
  {
   "cell_type": "code",
   "execution_count": 6,
   "metadata": {},
   "outputs": [],
   "source": [
    "# Amex\n",
    "path = './in/activity.csv'\n",
    "df = pd.read_csv(path)\n",
    "\n",
    "df.rename(columns={\"Description\":\"Payee\"}, inplace=True)\n",
    "\n",
    "df.to_csv('./out/amex.csv')"
   ]
  },
  {
   "cell_type": "code",
   "execution_count": 3,
   "metadata": {},
   "outputs": [
    {
     "name": "stderr",
     "output_type": "stream",
     "text": [
      "/usr/local/lib/python3.7/dist-packages/pandas/core/frame.py:4913: SettingWithCopyWarning: \n",
      "A value is trying to be set on a copy of a slice from a DataFrame\n",
      "\n",
      "See the caveats in the documentation: https://pandas.pydata.org/pandas-docs/stable/user_guide/indexing.html#returning-a-view-versus-a-copy\n",
      "  errors=errors,\n",
      "/usr/local/lib/python3.7/dist-packages/pandas/core/frame.py:5047: SettingWithCopyWarning: \n",
      "A value is trying to be set on a copy of a slice from a DataFrame\n",
      "\n",
      "See the caveats in the documentation: https://pandas.pydata.org/pandas-docs/stable/user_guide/indexing.html#returning-a-view-versus-a-copy\n",
      "  errors=errors,\n"
     ]
    }
   ],
   "source": [
    "# Full View\n",
    "path = './in/'\n",
    "for filename in os.listdir(path):\n",
    "    if re.match(\"transactions_.*.csv\",filename):\n",
    "        path = path + filename\n",
    "\n",
    "df = pd.read_csv(path)\n",
    "\n",
    "df['Date'] = pd.to_datetime(df.Date)\n",
    "\n",
    "names = df['Institution'].unique().tolist()\n",
    "accts = {}\n",
    "for name in names:\n",
    "    inst_df = df.loc[df['Institution'] == name]\n",
    "    acct_list = inst_df['Account'].unique().tolist()\n",
    "    for acct in acct_list:\n",
    "        acct_df = df.loc[(df['Institution'] == name) & (df['Account'] == acct) & (df['Is Hidden'] == 'No') & (df['Is Pending'] == 'No')]\n",
    "        acct_df.drop(columns=['Institution', 'Account', 'Is Hidden', 'Category', 'Is Pending'], inplace=True)\n",
    "        acct_df.rename(columns={'Description':'Payee'}, inplace=True)\n",
    "        acct_df.to_csv(f\"./out/{name + acct.replace(\"*\",\"\")}.csv\")\n",
    "\n",
    "\n",
    "\n",
    "\n",
    "\n",
    "\n"
   ]
  }
 ],
 "metadata": {
  "kernelspec": {
   "display_name": "Python 3",
   "language": "python",
   "name": "python3"
  },
  "language_info": {
   "codemirror_mode": {
    "name": "ipython",
    "version": 3
   },
   "file_extension": ".py",
   "mimetype": "text/x-python",
   "name": "python",
   "nbconvert_exporter": "python",
   "pygments_lexer": "ipython3",
   "version": "3.7.3"
  },
  "orig_nbformat": 4,
  "vscode": {
   "interpreter": {
    "hash": "31f2aee4e71d21fbe5cf8b01ff0e069b9275f58929596ceb00d14d90e3e16cd6"
   }
  }
 },
 "nbformat": 4,
 "nbformat_minor": 2
}
