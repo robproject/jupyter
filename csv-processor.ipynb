{
 "cells": [
  {
   "cell_type": "code",
   "execution_count": 10,
   "metadata": {},
   "outputs": [],
   "source": [
    "import pandas as pd\n",
    "import os\n",
    "import re\n",
    "from ipysheet import from_dataframe, to_dataframe\n"
   ]
  },
  {
   "cell_type": "code",
   "execution_count": 2,
   "metadata": {},
   "outputs": [],
   "source": [
    "# NFCU\n",
    "path = \"./in/transactions.CSV\"\n",
    "df = pd.read_csv(path)\n",
    "df[\"Date\"] = pd.to_datetime(df.Date)\n",
    "df.drop(\"No.\", axis=1, inplace=True)\n",
    "df.rename(columns={\"Description\": \"Payee\"}, inplace=True)\n",
    "df.to_csv(\"./out/nfcu.csv\")\n"
   ]
  },
  {
   "cell_type": "code",
   "execution_count": 3,
   "metadata": {},
   "outputs": [],
   "source": [
    "# Ally\n",
    "path = \"./in/ally.csv\"\n",
    "df = pd.read_csv(path)\n",
    "\n",
    "df.drop(columns=[\" Time\", \" Type\"], inplace=True)\n",
    "df.rename(columns={\" Description\": \"Payee\"}, inplace=True)\n",
    "\n",
    "df.to_csv(\"./out/ally.csv\")\n"
   ]
  },
  {
   "cell_type": "code",
   "execution_count": 4,
   "metadata": {},
   "outputs": [],
   "source": [
    "# Chase\n",
    "path = \"./in/\"\n",
    "for filename in os.listdir(path):\n",
    "    if re.match(\"Chase.*.CSV\", filename):\n",
    "        path = path + filename\n",
    "df = pd.read_csv(path)\n",
    "df.drop(columns=[\"Transaction Date\", \"Category\", \"Type\"], inplace=True)\n",
    "df.rename(columns={\"Post Date\": \"Date\"}, inplace=True)\n",
    "\n",
    "df.to_csv(\"./out/Chase.csv\")\n"
   ]
  },
  {
   "cell_type": "code",
   "execution_count": 6,
   "metadata": {},
   "outputs": [],
   "source": [
    "# Amex\n",
    "path = \"./in/activity.csv\"\n",
    "df = pd.read_csv(path)\n",
    "\n",
    "df.rename(columns={\"Description\": \"Payee\"}, inplace=True)\n",
    "\n",
    "df.to_csv(\"./out/amex.csv\")\n"
   ]
  },
  {
   "cell_type": "code",
   "execution_count": 11,
   "metadata": {},
   "outputs": [
    {
     "name": "stderr",
     "output_type": "stream",
     "text": [
      "/usr/local/lib/python3.7/dist-packages/ipykernel_launcher.py:35: SettingWithCopyWarning: \n",
      "A value is trying to be set on a copy of a slice from a DataFrame.\n",
      "Try using .loc[row_indexer,col_indexer] = value instead\n",
      "\n",
      "See the caveats in the documentation: https://pandas.pydata.org/pandas-docs/stable/user_guide/indexing.html#returning-a-view-versus-a-copy\n"
     ]
    }
   ],
   "source": [
    "# Full View\n",
    "# creates csv for each instututionAccount from fullview transaction aggregation output\n",
    "path = \"./in/\"\n",
    "for filename in os.listdir(path):\n",
    "    if re.match(\"transactions_.*.csv\", filename):\n",
    "        path = path + filename\n",
    "\n",
    "df = pd.read_csv(path)\n",
    "\n",
    "# fixes dates\n",
    "df[\"Date\"] = pd.to_datetime(df.Date)\n",
    "\n",
    "# creates institution-account column and list of uniques\n",
    "df[\"Acct\"] = df[\"Institution\"] + df[\"Account\"]\n",
    "accts = df[\"Acct\"].unique().tolist()\n",
    "\n",
    "# creates each list of transactions per account, only including posted transactions\n",
    "for acct in accts:\n",
    "    acct_df = df.loc[\n",
    "        (df[\"Acct\"] == acct)\n",
    "        & (df[\"Is Hidden\"] == \"No\")\n",
    "        & (df[\"Is Pending\"] == \"No\")\n",
    "    ]\n",
    "\n",
    "    # format for actual by dropping unused columns, renaming payee, and formatting amounts\n",
    "    acct_df.drop(\n",
    "        columns=[\"Acct\", \"Institution\", \"Account\", \"Is Hidden\", \"Category\", \"Is Pending\"],\n",
    "        inplace=True,\n",
    "    )\n",
    "    acct_df.rename(columns={\"Description\": \"Payee\"}, inplace=True)\n",
    "    acct_df[\"Amount\"] = (\n",
    "        acct_df[\"Amount\"]\n",
    "        .replace(\"[\\$,)]\", \"\", regex=True)\n",
    "        .replace(\"[(]\", \"-\", regex=True)\n",
    "        .astype(float)\n",
    "    )\n",
    "\n",
    "    acct_df.to_csv(f\"./out/{acct.replace('*','')}.csv\")\n"
   ]
  }
 ],
 "metadata": {
  "kernelspec": {
   "display_name": "Python 3",
   "language": "python",
   "name": "python3"
  },
  "language_info": {
   "codemirror_mode": {
    "name": "ipython",
    "version": 3
   },
   "file_extension": ".py",
   "mimetype": "text/x-python",
   "name": "python",
   "nbconvert_exporter": "python",
   "pygments_lexer": "ipython3",
   "version": "3.7.3"
  },
  "orig_nbformat": 4,
  "vscode": {
   "interpreter": {
    "hash": "31f2aee4e71d21fbe5cf8b01ff0e069b9275f58929596ceb00d14d90e3e16cd6"
   }
  }
 },
 "nbformat": 4,
 "nbformat_minor": 2
}
