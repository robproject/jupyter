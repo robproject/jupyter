{
 "cells": [
  {
   "cell_type": "code",
   "execution_count": 1,
   "metadata": {},
   "outputs": [],
   "source": [
    "import pandas as pd\n",
    "import os\n",
    "import re\n",
    "from ipysheet import from_dataframe, to_dataframe\n"
   ]
  },
  {
   "cell_type": "code",
   "execution_count": 14,
   "metadata": {},
   "outputs": [],
   "source": [
    "# NFCU\n",
    "#path = \"./in/transactionsNFCUcc.CSV\"\n",
    "#df = pd.read_csv(path)\n",
    "#df[\"Date\"] = pd.to_datetime(df[\"Transaction Date\"])\n",
    "#df.rename(columns={\"Description\": \"Payee\"}, inplace=True)\n",
    "#df.to_csv(\"./out/nfcuvisa.csv\")\n",
    "\n",
    "path = \"./in/transactionsNFCUchk.CSV\"\n",
    "df = pd.read_csv(path)\n",
    "df[\"Date\"] = pd.to_datetime(df.Date)\n",
    "df.drop(\"No.\", axis=1, inplace=True)\n",
    "df.rename(columns={\"Description\": \"Payee\"}, inplace=True)\n",
    "df.to_csv(\"./out/nfcudebit.csv\")\n"
   ]
  },
  {
   "cell_type": "code",
   "execution_count": 3,
   "metadata": {},
   "outputs": [],
   "source": [
    "# Ally\n",
    "path = \"./in/ally.csv\"\n",
    "df = pd.read_csv(path)\n",
    "\n",
    "df.drop(columns=[\" Time\", \" Type\"], inplace=True)\n",
    "df.rename(columns={\" Description\": \"Payee\"}, inplace=True)\n",
    "\n",
    "df.to_csv(\"./out/ally.csv\")\n"
   ]
  },
  {
   "cell_type": "code",
   "execution_count": 4,
   "metadata": {},
   "outputs": [],
   "source": [
    "# Chase\n",
    "path = \"./in/\"\n",
    "for filename in os.listdir(path):\n",
    "    if re.match(\"Chase.*.CSV\", filename):\n",
    "        path = path + filename\n",
    "df = pd.read_csv(path)\n",
    "df.drop(columns=[\"Transaction Date\", \"Category\", \"Type\"], inplace=True)\n",
    "df.rename(columns={\"Post Date\": \"Date\"}, inplace=True)\n",
    "\n",
    "df.to_csv(\"./out/Chase.csv\")\n"
   ]
  },
  {
   "cell_type": "code",
   "execution_count": 6,
   "metadata": {},
   "outputs": [],
   "source": [
    "# Amex\n",
    "path = \"./in/activity.csv\"\n",
    "df = pd.read_csv(path)\n",
    "\n",
    "df.rename(columns={\"Description\": \"Payee\"}, inplace=True)\n",
    "\n",
    "df.to_csv(\"./out/amex.csv\")\n"
   ]
  },
  {
   "cell_type": "code",
   "execution_count": 8,
   "metadata": {},
   "outputs": [],
   "source": [
    "def paypal(paypal_df, all=False):\n",
    "    paypal_df.rename(\n",
    "        columns={\"date\": \"Date\", \"amount\": \"Amount\", \"description\": \"Payee\"},\n",
    "        inplace=True,\n",
    "    )\n",
    "    paypal_df[\"Date\"] = pd.to_datetime(paypal_df.Date)\n",
    "    paypal_df.drop(columns=[\"id\"], inplace=True)\n",
    "    paypal_df[\"Amount\"] = (\n",
    "        paypal_df[\"Amount\"]\n",
    "        .replace(\"[\\$,)]\", \"\", regex=True)\n",
    "        .replace(\"[(]\", \"-\", regex=True)\n",
    "        .astype(float)\n",
    "    )\n",
    "    if all:\n",
    "        paypal_df.to_csv(\"./out/all_paypal.csv\")\n",
    "    else:\n",
    "        paypal_df.to_csv(\"./out/mc_paypal.csv\")\n",
    "\n",
    "\n",
    "def full_view(df):\n",
    "    # Creates csv for each instututionAccount from fullview transaction aggregation output.\n",
    "    # fixes dates\n",
    "    df[\"Date\"] = pd.to_datetime(df[\"Date\"])\n",
    "\n",
    "    # Creates institution-account column and list of uniques.\n",
    "    df[\"Acct\"] = df[\"Institution\"] + \" \" + df[\"Account\"]\n",
    "    accts = df[\"Acct\"].unique().tolist()\n",
    "\n",
    "    # Creates each list of transactions per account, only including posted transactions.\n",
    "    for acct in accts:\n",
    "        acct_df = df.loc[\n",
    "            (df[\"Acct\"] == acct)\n",
    "            & (df[\"Is Hidden\"] == \"No\")\n",
    "            & (df[\"Is Pending\"] == \"No\")\n",
    "        ]\n",
    "\n",
    "        # Format for actual by dropping unused columns, renaming payee, and formatting amounts.\n",
    "        acct_df = acct_df.drop(\n",
    "            columns=[\n",
    "                \"Acct\",\n",
    "                \"Institution\",\n",
    "                \"Account\",\n",
    "                \"Is Hidden\",\n",
    "                \"Category\",\n",
    "                \"Is Pending\",\n",
    "            ]\n",
    "        )\n",
    "        acct_df = acct_df.rename(columns={\"Description\": \"Payee\"})\n",
    "        acct_df[\"Amount\"] = (\n",
    "            acct_df.loc[:, [\"Amount\"]]\n",
    "            .replace(\"[\\$,)]\", \"\", regex=True)\n",
    "            .replace(\"[(]\", \"-\", regex=True)\n",
    "            .astype(float)\n",
    "        )\n",
    "\n",
    "        acct_df.to_csv(f\"./out/{acct.replace('*','')}.csv\")\n",
    "\n",
    "\n",
    "path = \"in\"\n",
    "if not os.path.exists(\"out\"):\n",
    "    os.mkdir(\"out\")\n",
    "\n",
    "for filename in os.listdir(path):\n",
    "    if \"DS_Store\" in filename:\n",
    "        continue\n",
    "\n",
    "    file_path = os.path.join(path, filename)\n",
    "    df = pd.read_csv(file_path)\n",
    "\n",
    "    if re.match(\"transactions_.*.csv\", filename):\n",
    "        full_view(df)\n",
    "    elif \"recent-transactions\" in filename:\n",
    "        paypal(df, all=True)\n",
    "    else:\n",
    "        paypal(df)"
   ]
  }
 ],
 "metadata": {
  "kernelspec": {
   "display_name": "Python 3",
   "language": "python",
   "name": "python3"
  },
  "language_info": {
   "codemirror_mode": {
    "name": "ipython",
    "version": 3
   },
   "file_extension": ".py",
   "mimetype": "text/x-python",
   "name": "python",
   "nbconvert_exporter": "python",
   "pygments_lexer": "ipython3",
   "version": "3.11.4"
  },
  "orig_nbformat": 4,
  "vscode": {
   "interpreter": {
    "hash": "31f2aee4e71d21fbe5cf8b01ff0e069b9275f58929596ceb00d14d90e3e16cd6"
   }
  }
 },
 "nbformat": 4,
 "nbformat_minor": 2
}
