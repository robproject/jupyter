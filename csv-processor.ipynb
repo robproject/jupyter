{
 "cells": [
  {
   "cell_type": "code",
   "execution_count": 47,
   "metadata": {},
   "outputs": [],
   "source": [
    "import pandas as pd\n",
    "import os\n",
    "import re\n",
    "from ipysheet import from_dataframe, to_dataframe\n"
   ]
  },
  {
   "cell_type": "code",
   "execution_count": null,
   "metadata": {},
   "outputs": [],
   "source": [
    "# NFCU\n",
    "path = '/mnt/c/users/robir/Downloads/transactions.CSV'\n",
    "df = pd.read_csv(path)\n",
    "df['Date'] = pd.to_datetime(df.Date)\n",
    "df.drop(\"No.\", axis=1, inplace=True)\n",
    "df.rename(columns={\"Description\":\"Payee\"}, inplace=True)\n",
    "df.to_csv('/mnt/c/users/robir/Downloads/nfcu.csv')"
   ]
  },
  {
   "cell_type": "code",
   "execution_count": 42,
   "metadata": {},
   "outputs": [],
   "source": [
    "# Ally\n",
    "path = '/mnt/c/users/robir/Downloads/transactions.csv'\n",
    "df = pd.read_csv(path)\n",
    "\n",
    "df.drop(columns=[' Time', ' Type'], inplace=True)\n",
    "df.rename(columns={\" Description\":\"Payee\"}, inplace=True)\n",
    "\n",
    "df.to_csv('/mnt/c/users/robir/Downloads/ally.csv')\n"
   ]
  },
  {
   "cell_type": "code",
   "execution_count": 56,
   "metadata": {},
   "outputs": [],
   "source": [
    "# Chase\n",
    "path = '/mnt/c/users/robir/Downloads/'\n",
    "for filename in os.listdir(path):\n",
    "    if re.match(\"Chase.*.CSV\",filename):\n",
    "        path = path + filename\n",
    "df = pd.read_csv(path)\n",
    "df.drop(columns=['Transaction Date', 'Category', 'Type'], inplace=True)\n",
    "df.rename(columns={'Post Date':'Date'}, inplace=True)\n",
    "\n",
    "df.to_csv('/mnt/c/users/robir/Downloads/Chase.csv')\n"
   ]
  },
  {
   "cell_type": "code",
   "execution_count": 58,
   "metadata": {},
   "outputs": [],
   "source": [
    "# Amex\n",
    "path = '/mnt/c/users/robir/downloads/activity.csv'\n",
    "df = pd.read_csv(path)\n",
    "\n",
    "df.rename(columns={\"Description\":\"Payee\"}, inplace=True)\n",
    "\n",
    "df.to_csv('/mnt/c/users/robir/Downloads/amex.csv')"
   ]
  }
 ],
 "metadata": {
  "kernelspec": {
   "display_name": "venv",
   "language": "python",
   "name": "python3"
  },
  "language_info": {
   "codemirror_mode": {
    "name": "ipython",
    "version": 3
   },
   "file_extension": ".py",
   "mimetype": "text/x-python",
   "name": "python",
   "nbconvert_exporter": "python",
   "pygments_lexer": "ipython3",
   "version": "3.10.6 (main, Nov 14 2022, 16:10:14) [GCC 11.3.0]"
  },
  "orig_nbformat": 4,
  "vscode": {
   "interpreter": {
    "hash": "35ab12972f7242f5241b7494272a670c7bdf40fb6e804676c1bd9893b1a5d06f"
   }
  }
 },
 "nbformat": 4,
 "nbformat_minor": 2
}
