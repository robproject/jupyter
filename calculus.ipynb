{
 "cells": [
  {
   "cell_type": "code",
   "execution_count": 3,
   "metadata": {},
   "outputs": [],
   "source": [
    "import sympy as sp\n",
    "sp.init_printing()\n",
    "\n",
    "from sympy.physics.control import control_plots\n",
    "from sympy.physics.control.lti import TransferFunction as tf\n",
    "\n",
    "import matplotlib.pyplot as plt\n",
    "%matplotlib inline"
   ]
  },
  {
   "cell_type": "code",
   "execution_count": 5,
   "metadata": {},
   "outputs": [],
   "source": [
    "s, t, a, n, w, T, x, y, z, r= sp.symbols('s t a n w T x y z r')"
   ]
  },
  {
   "cell_type": "code",
   "execution_count": 8,
   "metadata": {},
   "outputs": [
    {
     "data": {
      "image/png": "[encoded data removed]",
      "text/latex": [
       "$\\displaystyle a \\sqrt{\\frac{\\csc^{2}{\\left(t \\right)} + \\sec^{2}{\\left(t \\right)}}{r^{2}}} + n r t$"
      ],
      "text/plain": [
       "        ___________________        \n",
       "       ╱    2         2            \n",
       "      ╱  csc (t) + sec (t)         \n",
       "a⋅   ╱   ─────────────────  + n⋅r⋅t\n",
       "    ╱             2                \n",
       "  ╲╱             r                 "
      ]
     },
     "execution_count": 8,
     "metadata": {},
     "output_type": "execute_result"
    }
   ],
   "source": [
    "f = (sp.sqrt((sp.csc(t)**2 + sp.sec(t)**2)/r**2)*a+t*r*n)\n",
    "f\n"
   ]
  },
  {
   "cell_type": "code",
   "execution_count": 15,
   "metadata": {},
   "outputs": [
    {
     "data": {
      "image/png": "[encoded data removed]",
      "text/latex": [
       "$\\displaystyle \\int\\limits_{0}^{\\pi} \\left(a \\sqrt{\\csc^{2}{\\left(t \\right)} + \\sec^{2}{\\left(t \\right)}} \\sqrt{\\frac{1}{r^{2}}} + n r t\\right)\\, dt$"
      ],
      "text/plain": [
       "π                                                \n",
       "⌠                                                \n",
       "⎮ ⎛     ___________________      ____        ⎞   \n",
       "⎮ ⎜    ╱    2         2         ╱ 1          ⎟   \n",
       "⎮ ⎜a⋅╲╱  csc (t) + sec (t) ⋅   ╱  ──  + n⋅r⋅t⎟ dt\n",
       "⎮ ⎜                           ╱    2         ⎟   \n",
       "⎮ ⎝                         ╲╱    r          ⎠   \n",
       "⌡                                                \n",
       "0                                                "
      ]
     },
     "execution_count": 15,
     "metadata": {},
     "output_type": "execute_result"
    }
   ],
   "source": [
    "sp.integrate(f, [t, 0, sp.pi])"
   ]
  },
  {
   "cell_type": "code",
   "execution_count": 8,
   "metadata": {},
   "outputs": [
    {
     "data": {
      "image/png": "[encoded data removed]",
      "text/latex": [
       "$\\displaystyle \\frac{50 \\left(x y + 7 z\\right)}{x^{2} + 49}$"
      ],
      "text/plain": [
       "50⋅(x⋅y + 7⋅z)\n",
       "──────────────\n",
       "    2         \n",
       "   x  + 49    "
      ]
     },
     "execution_count": 8,
     "metadata": {},
     "output_type": "execute_result"
    }
   ],
   "source": [
    "f = 50/(x**2+49) * (x * y + 7 * z)\n",
    "\n",
    "sp.integrate(f, (x, 0, 4))"
   ]
  }
 ],
 "metadata": {
  "kernelspec": {
   "display_name": "Python 3",
   "language": "python",
   "name": "python3"
  },
  "language_info": {
   "codemirror_mode": {
    "name": "ipython",
    "version": 3
   },
   "file_extension": ".py",
   "mimetype": "text/x-python",
   "name": "python",
   "nbconvert_exporter": "python",
   "pygments_lexer": "ipython3",
   "version": "3.7.3"
  },
  "orig_nbformat": 4,
  "vscode": {
   "interpreter": {
    "hash": "31f2aee4e71d21fbe5cf8b01ff0e069b9275f58929596ceb00d14d90e3e16cd6"
   }
  }
 },
 "nbformat": 4,
 "nbformat_minor": 2
}
